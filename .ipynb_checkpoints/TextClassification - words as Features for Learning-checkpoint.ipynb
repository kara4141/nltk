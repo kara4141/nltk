{
 "cells": [
  {
   "cell_type": "code",
   "execution_count": 11,
   "metadata": {
    "collapsed": true
   },
   "outputs": [],
   "source": [
    "import nltk\n",
    "import random \n",
    "from nltk.corpus import movie_reviews"
   ]
  },
  {
   "cell_type": "code",
   "execution_count": 12,
   "metadata": {
    "collapsed": false
   },
   "outputs": [
    {
     "name": "stdout",
     "output_type": "stream",
     "text": [
      "(['\"', 'living', 'out', 'loud', ',', '\"', 'is', 'the', 'type', 'of', 'motion', 'picture', 'we', 'don', \"'\", 't', 'often', 'see', ':', 'it', 'is', 'a', 'film', 'about', 'mature', ',', 'intelligent', 'adults', ',', 'instead', 'of', 'the', 'usual', 'american', 'film', ',', 'in', 'which', 'children', 'basically', 'dress', 'up', 'in', 'grown', '-', 'up', 'clothing', 'and', 'parade', 'around', 'acting', 'like', 'immature', 'seven', '-', 'year', '-', 'olds', '.', 'judith', '(', 'holly', 'hunter', ')', ',', 'a', 'fortysomething', 'living', 'in', 'new', 'york', 'city', ',', 'has', 'been', 'having', 'a', 'difficult', 'time', 'with', 'life', 'lately', '.', 'she', 'is', 'extremely', 'depressed', 'about', 'her', 'recent', 'divorce', 'to', 'her', 'husband', '(', 'martin', 'donovan', ')', ',', 'who', 'had', 'been', 'cheating', 'on', 'her', '.', 'she', 'cannot', 'sleep', ',', 'haunted', 'by', 'terrible', 'memories', ',', 'often', 'imagines', 'off', '-', 'the', '-', 'wall', 'things', 'to', 'try', 'and', 'make', 'the', 'world', 'seem', 'like', 'a', 'better', 'place', ',', 'and', 'the', 'only', 'place', 'she', 'can', 'really', 'go', 'to', 'feel', 'happy', 'is', 'to', 'hear', 'one', 'of', 'her', 'favorite', 'singers', ',', 'liz', 'bailey', '(', 'queen', 'latifah', ')', ',', 'perform', 'at', 'a', 'local', 'club', '.', 'judith', \"'\", 's', 'life', 'does', 'start', 'to', 'brighten', 'a', 'little', 'when', ',', 'one', 'night', 'when', 'she', 'gets', 'home', 'to', 'her', 'apartment', 'late', ',', 'strikes', 'up', 'a', 'conversation', 'with', 'the', 'elevator', 'operator', ',', 'pat', '(', 'danny', 'devito', ')', ',', 'a', 'lonely', 'man', 'in', 'his', 'fifties', 'whom', 'has', 'lost', 'his', 'daughter', 'recently', '.', 'both', 'of', 'them', 'create', 'a', 'sort', 'of', 'emotional', 'connection', 'with', 'each', 'other', ',', 'seeking', 'comfort', 'with', 'the', 'other', 'person', ',', 'but', 'while', 'pat', 'starts', 'to', 'form', 'a', 'deep', 'love', 'for', 'her', ',', 'judith', 'only', 'wants', 'to', 'remain', 'friends', '.', '\"', 'living', 'out', 'loud', ',', '\"', 'which', 'was', 'written', 'by', 'richard', 'lagravenese', '(', '\"', 'the', 'bridges', 'of', 'madison', 'county', '\"', ')', ',', 'who', 'is', 'also', 'making', 'his', 'directing', 'debut', 'here', ',', 'is', 'a', 'wonderful', 'film', 'from', 'beginning', 'to', 'end', ',', 'one', 'that', 'is', 'honest', ',', 'genuinely', 'funny', ',', 'and', 'poignant', '.', 'the', 'three', 'central', 'characters', ',', 'that', 'of', 'judith', ',', 'pat', ',', 'and', 'liz', ',', 'are', 'all', 'written', 'to', 'be', 'free', '-', 'thinking', ',', 'complex', 'human', 'beings', ',', 'and', 'are', 'all', 'likable', ',', 'but', 'flawed', ',', 'people', 'who', 'are', 'constantly', 'interesting', ',', 'as', 'is', 'the', 'film', 'itself', '.', 'one', 'highly', 'original', 'element', 'of', 'the', 'film', 'is', 'that', 'judith', 'occasionally', 'imagines', 'things', 'occuring', 'in', 'her', 'mind', 'in', 'the', 'way', 'she', 'wishes', 'they', 'would', 'happen', '.', 'sometimes', 'it', 'results', 'in', 'comedy', ',', 'and', 'sometimes', 'it', 'turns', 'out', 'to', 'be', 'subtle', 'and', 'truly', 'touching', '.', 'one', 'sequence', 'that', 'stands', 'out', 'is', 'when', 'judith', 'is', 'at', 'a', 'restaurant', 'by', 'herself', ',', 'reading', 'a', 'novel', '.', 'an', 'older', 'woman', 'comes', 'over', 'to', 'her', ',', 'mentions', 'that', 'that', 'is', 'a', 'great', 'book', 'she', 'is', 'reading', ',', 'and', 'then', 'goes', 'over', 'to', 'join', 'her', 'own', 'friends', '.', 'as', 'the', 'woman', 'sits', 'down', ',', 'she', 'looks', 'over', 'to', 'see', 'judith', 'by', 'herself', ',', 'and', 'motions', 'for', 'her', 'to', 'come', 'join', 'them', '.', 'instantly', ',', 'we', 'realize', 'this', 'was', 'simply', 'in', 'judith', \"'\", 's', 'mind', ',', 'as', 'we', 'see', 'the', 'same', 'woman', 'just', 'sit', 'down', 'at', 'the', 'table', 'and', 'begin', 'talking', 'to', 'her', 'friends', '.', 'holly', 'hunter', 'and', 'danny', 'devito', 'both', 'give', 'the', 'performances', 'of', 'their', 'careers', 'here', '.', 'hunter', ',', 'of', 'course', ',', 'was', 'brilliant', 'in', '1993', \"'\", 's', '\"', 'the', 'piano', ',', '\"', 'for', 'which', 'she', 'won', 'an', 'academy', 'award', ',', 'but', 'in', 'this', 'film', 'she', 'is', 'even', 'better', ',', 'i', 'think', '.', 'she', 'finds', 'the', 'right', 'note', 'for', 'each', 'scene', 'and', 'holds', 'it', '.', 'and', 'devito', 'has', 'never', 'had', 'such', 'a', 'humanistic', 'role', 'before', ',', 'which', 'i', 'was', 'surprised', 'about', '.', 'usually', 'he', 'is', 'used', 'as', 'the', 'butt', 'of', 'a', 'joke', ',', 'or', 'as', 'a', 'caricature', ',', 'but', 'in', 'this', 'film', ',', 'has', 'a', 'living', '-', 'and', '-', 'breathing', ',', 'sympathetic', 'person', 'to', 'play', '.', 'topping', 'it', 'all', 'off', 'is', 'latifah', ',', 'also', 'a', 'singer', ',', 'who', 'is', 'quickly', 'turning', 'into', 'a', 'respectable', 'actress', 'herself', ',', 'and', 'has', 'a', 'juicy', ',', 'natural', 'supporting', 'role', 'as', ',', 'in', 'some', 'ways', ',', 'judith', \"'\", 's', 'role', 'model', '.', 'another', 'joy', 'of', 'the', 'film', 'is', 'that', 'it', 'does', 'not', 'somehow', 'form', 'a', 'contrived', ',', '\"', 'happy', '\"', 'ending', ',', 'but', ',', 'in', 'staying', 'with', 'its', 'realistic', 'tone', ',', 'manages', 'to', 'be', 'upbeat', ',', 'but', 'truthful', '.', 'the', 'last', 'shot', 'is', 'an', 'especially', 'powerful', 'image', '.', 'nothing', 'is', 'said', ',', 'but', 'just', 'the', 'image', 'of', 'someone', 'walking', 'down', 'a', 'sidewalk', 'says', 'it', 'all', '.', 'the', 'relationship', 'that', 'results', 'between', 'judith', 'and', 'pat', 'is', 'true', '-', 'to', '-', 'life', 'and', 'sincere', '.', 'as', 'we', 'watch', 'these', 'two', 'people', 'talk', ',', 'and', 'get', 'to', 'know', 'each', 'other', ',', 'all', 'that', 'we', 'wish', 'for', 'them', 'both', 'is', 'to', 'be', 'happy', ',', 'even', 'if', 'that', 'does', 'not', 'include', 'for', 'them', 'to', 'become', 'romantically', 'involved', '.', 'and', 'as', ',', '\"', 'living', 'out', 'loud', ',', '\"', 'which', 'is', 'one', 'of', 'the', 'best', 'films', 'of', 'the', 'year', ',', 'proves', ',', 'sometimes', 'a', 'friendship', 'is', 'the', 'strongest', 'bond', 'anyone', 'could', 'possibly', 'ask', 'for', '.'], 'pos')\n"
     ]
    }
   ],
   "source": [
    "documents = [(list(movie_reviews.words(fileid)),category)\n",
    "            for category in movie_reviews.categories()\n",
    "            for fileid in movie_reviews.fileids(category)]\n",
    "\n",
    "random.shuffle(documents)\n",
    "\n",
    "print (documents[1])"
   ]
  },
  {
   "cell_type": "code",
   "execution_count": 18,
   "metadata": {
    "collapsed": false
   },
   "outputs": [
    {
     "name": "stdout",
     "output_type": "stream",
     "text": [
      "[(',', 77717), ('the', 76529), ('.', 65876), ('a', 38106), ('and', 35576), ('of', 34123), ('to', 31937), (\"'\", 30585), ('is', 25195), ('in', 21822), ('s', 18513), ('\"', 17612), ('it', 16107), ('that', 15924), ('-', 15595)]\n"
     ]
    }
   ],
   "source": [
    "all_words = []\n",
    "for w in movie_reviews.words():\n",
    "    all_words.append(w.lower())\n",
    "    \n",
    "all_words = nltk.FreqDist(all_words)\n",
    "print(all_words.most_common(15))"
   ]
  },
  {
   "cell_type": "code",
   "execution_count": 19,
   "metadata": {
    "collapsed": false
   },
   "outputs": [
    {
     "name": "stdout",
     "output_type": "stream",
     "text": [
      "253\n"
     ]
    }
   ],
   "source": [
    "print(all_words[\"stupid\"])"
   ]
  },
  {
   "cell_type": "code",
   "execution_count": null,
   "metadata": {
    "collapsed": true
   },
   "outputs": [],
   "source": []
  }
 ],
 "metadata": {
  "anaconda-cloud": {},
  "kernelspec": {
   "display_name": "Python [default]",
   "language": "python",
   "name": "python3"
  },
  "language_info": {
   "codemirror_mode": {
    "name": "ipython",
    "version": 3
   },
   "file_extension": ".py",
   "mimetype": "text/x-python",
   "name": "python",
   "nbconvert_exporter": "python",
   "pygments_lexer": "ipython3",
   "version": "3.5.2"
  }
 },
 "nbformat": 4,
 "nbformat_minor": 1
}
