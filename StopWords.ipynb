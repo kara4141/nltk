{
 "cells": [
  {
   "cell_type": "code",
   "execution_count": 1,
   "metadata": {
    "collapsed": true
   },
   "outputs": [],
   "source": [
    "from nltk.corpus import stopwords\n",
    "from nltk.tokenize import word_tokenize"
   ]
  },
  {
   "cell_type": "code",
   "execution_count": 2,
   "metadata": {
    "collapsed": true
   },
   "outputs": [],
   "source": [
    "example = \"This is an example showing off stop word filtration\""
   ]
  },
  {
   "cell_type": "code",
   "execution_count": 4,
   "metadata": {
    "collapsed": false
   },
   "outputs": [],
   "source": [
    "stop_words = set(stopwords.words(\"english\"))"
   ]
  },
  {
   "cell_type": "code",
   "execution_count": 5,
   "metadata": {
    "collapsed": false
   },
   "outputs": [
    {
     "name": "stdout",
     "output_type": "stream",
     "text": [
      "{'a', 'they', 've', 'haven', 'yourselves', 'own', 'are', 'it', 'about', 'were', 'their', 'not', 'have', \"don't\", 'our', 'by', \"you've\", 'between', 'mightn', 'shan', 'again', 'all', 'in', 'over', 'what', 'does', 'weren', 'can', \"weren't\", 'which', 'no', 'after', 'been', 'she', 'aren', 'who', 'why', \"hadn't\", 'shouldn', 'against', \"hasn't\", \"mightn't\", 'mustn', 'should', 'only', \"it's\", 'this', 'up', 'couldn', 'further', 'we', 'themselves', 'off', 'because', \"wasn't\", 'here', 'then', 'that', 'did', \"that'll\", 'these', 'itself', 'is', 'or', 'his', 'down', 'was', 'each', 'hadn', 'hasn', 'ain', 'needn', 'd', 'him', 'most', 'other', 'and', 'be', 'will', 'until', 'more', 'so', 'its', 'from', 'once', 'those', 'for', 'with', 'he', 'yours', 'yourself', 'into', 'wasn', 'don', 'of', 'both', \"wouldn't\", 'your', 'myself', 'at', 'some', 'y', \"shan't\", 'but', \"mustn't\", \"haven't\", 'if', \"doesn't\", 'o', 'on', 're', 'being', 'doing', 'an', 'during', \"aren't\", 'below', 'had', 'such', 'wouldn', 'there', 'won', 'them', 'too', 'my', \"should've\", 'has', 'any', 'm', \"shouldn't\", \"isn't\", \"she's\", \"you'll\", 'while', 't', 'do', 'her', \"you'd\", 'you', \"you're\", 'out', 'very', 'doesn', 'isn', 'himself', 'having', \"didn't\", 'i', 'ours', 'the', 'where', 'how', 'ma', 'just', \"couldn't\", 'above', 'to', 'theirs', 's', 'am', \"won't\", 'whom', 'ourselves', 'now', 'll', 'nor', 'hers', 'herself', 'as', 'few', 'same', 'through', 'before', \"needn't\", 'me', 'when', 'didn', 'than', 'under'}\n"
     ]
    }
   ],
   "source": [
    "print(stop_words)\n",
    "#whatarestopwords"
   ]
  },
  {
   "cell_type": "code",
   "execution_count": 6,
   "metadata": {
    "collapsed": false
   },
   "outputs": [
    {
     "name": "stdout",
     "output_type": "stream",
     "text": [
      "['This', 'example', 'showing', 'stop', 'word', 'filtration']\n"
     ]
    }
   ],
   "source": [
    "words = word_tokenize(example)\n",
    "\n",
    "filtered_sentence = []\n",
    "\n",
    "for w in words:\n",
    "    if w not in stop_words:\n",
    "        filtered_sentence.append(w)\n",
    "print(filtered_sentence)"
   ]
  },
  {
   "cell_type": "code",
   "execution_count": 10,
   "metadata": {
    "collapsed": false
   },
   "outputs": [
    {
     "name": "stdout",
     "output_type": "stream",
     "text": [
      "['This', 'example', 'showing', 'stop', 'word', 'filtration']\n"
     ]
    }
   ],
   "source": [
    "filtered_1 = [w for w in words if not w in stop_words]\n",
    "print(filtered_1)"
   ]
  },
  {
   "cell_type": "code",
   "execution_count": null,
   "metadata": {
    "collapsed": true
   },
   "outputs": [],
   "source": []
  }
 ],
 "metadata": {
  "anaconda-cloud": {},
  "kernelspec": {
   "display_name": "Python [default]",
   "language": "python",
   "name": "python3"
  },
  "language_info": {
   "codemirror_mode": {
    "name": "ipython",
    "version": 3
   },
   "file_extension": ".py",
   "mimetype": "text/x-python",
   "name": "python",
   "nbconvert_exporter": "python",
   "pygments_lexer": "ipython3",
   "version": "3.5.2"
  }
 },
 "nbformat": 4,
 "nbformat_minor": 1
}
