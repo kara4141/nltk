{
 "cells": [
  {
   "cell_type": "code",
   "execution_count": 1,
   "metadata": {
    "collapsed": true
   },
   "outputs": [],
   "source": [
    "#defination, context ... of words\n",
    "from nltk.corpus import wordnet"
   ]
  },
  {
   "cell_type": "code",
   "execution_count": 2,
   "metadata": {
    "collapsed": true
   },
   "outputs": [],
   "source": [
    "syns = wordnet.synsets(\"program\")"
   ]
  },
  {
   "cell_type": "code",
   "execution_count": 8,
   "metadata": {
    "collapsed": false
   },
   "outputs": [
    {
     "name": "stdout",
     "output_type": "stream",
     "text": [
      "plan.n.01\n"
     ]
    }
   ],
   "source": [
    "#synset\n",
    "print(syns[0].name())"
   ]
  },
  {
   "cell_type": "code",
   "execution_count": 9,
   "metadata": {
    "collapsed": false
   },
   "outputs": [
    {
     "name": "stdout",
     "output_type": "stream",
     "text": [
      "<bound method Lemma.name of Lemma('plan.n.01.plan')>\n"
     ]
    }
   ],
   "source": [
    "#just the word\n",
    "print(syns[0].lemmas()[0].name)"
   ]
  },
  {
   "cell_type": "code",
   "execution_count": 12,
   "metadata": {
    "collapsed": false
   },
   "outputs": [
    {
     "name": "stdout",
     "output_type": "stream",
     "text": [
      "a series of steps to be carried out or goals to be accomplished\n"
     ]
    }
   ],
   "source": [
    "#defination\n",
    "print(syns[0].definition())"
   ]
  },
  {
   "cell_type": "code",
   "execution_count": 16,
   "metadata": {
    "collapsed": false
   },
   "outputs": [
    {
     "name": "stdout",
     "output_type": "stream",
     "text": [
      "['they drew up a six-step plan', 'they discussed plans for a new bond issue']\n"
     ]
    }
   ],
   "source": [
    "#example\n",
    "print(syns[0].examples())"
   ]
  },
  {
   "cell_type": "code",
   "execution_count": 17,
   "metadata": {
    "collapsed": true
   },
   "outputs": [],
   "source": [
    "synonyms = []"
   ]
  },
  {
   "cell_type": "code",
   "execution_count": 18,
   "metadata": {
    "collapsed": true
   },
   "outputs": [],
   "source": [
    "antonyms = []"
   ]
  },
  {
   "cell_type": "code",
   "execution_count": 28,
   "metadata": {
    "collapsed": false
   },
   "outputs": [
    {
     "name": "stdout",
     "output_type": "stream",
     "text": [
      "l: Lemma('good.n.01.good')\n",
      "l: Lemma('good.n.02.good')\n",
      "l: Lemma('good.n.02.goodness')\n",
      "l: Lemma('good.n.03.good')\n",
      "l: Lemma('good.n.03.goodness')\n",
      "l: Lemma('commodity.n.01.commodity')\n",
      "l: Lemma('commodity.n.01.trade_good')\n",
      "l: Lemma('commodity.n.01.good')\n",
      "l: Lemma('good.a.01.good')\n",
      "l: Lemma('full.s.06.full')\n",
      "l: Lemma('full.s.06.good')\n",
      "l: Lemma('good.a.03.good')\n",
      "l: Lemma('estimable.s.02.estimable')\n",
      "l: Lemma('estimable.s.02.good')\n",
      "l: Lemma('estimable.s.02.honorable')\n",
      "l: Lemma('estimable.s.02.respectable')\n",
      "l: Lemma('beneficial.s.01.beneficial')\n",
      "l: Lemma('beneficial.s.01.good')\n",
      "l: Lemma('good.s.06.good')\n",
      "l: Lemma('good.s.07.good')\n",
      "l: Lemma('good.s.07.just')\n",
      "l: Lemma('good.s.07.upright')\n",
      "l: Lemma('adept.s.01.adept')\n",
      "l: Lemma('adept.s.01.expert')\n",
      "l: Lemma('adept.s.01.good')\n",
      "l: Lemma('adept.s.01.practiced')\n",
      "l: Lemma('adept.s.01.proficient')\n",
      "l: Lemma('adept.s.01.skillful')\n",
      "l: Lemma('adept.s.01.skilful')\n",
      "l: Lemma('good.s.09.good')\n",
      "l: Lemma('dear.s.02.dear')\n",
      "l: Lemma('dear.s.02.good')\n",
      "l: Lemma('dear.s.02.near')\n",
      "l: Lemma('dependable.s.04.dependable')\n",
      "l: Lemma('dependable.s.04.good')\n",
      "l: Lemma('dependable.s.04.safe')\n",
      "l: Lemma('dependable.s.04.secure')\n",
      "l: Lemma('good.s.12.good')\n",
      "l: Lemma('good.s.12.right')\n",
      "l: Lemma('good.s.12.ripe')\n",
      "l: Lemma('good.s.13.good')\n",
      "l: Lemma('good.s.13.well')\n",
      "l: Lemma('effective.s.04.effective')\n",
      "l: Lemma('effective.s.04.good')\n",
      "l: Lemma('effective.s.04.in_effect')\n",
      "l: Lemma('effective.s.04.in_force')\n",
      "l: Lemma('good.s.15.good')\n",
      "l: Lemma('good.s.16.good')\n",
      "l: Lemma('good.s.16.serious')\n",
      "l: Lemma('good.s.17.good')\n",
      "l: Lemma('good.s.17.sound')\n",
      "l: Lemma('good.s.18.good')\n",
      "l: Lemma('good.s.18.salutary')\n",
      "l: Lemma('good.s.19.good')\n",
      "l: Lemma('good.s.19.honest')\n",
      "l: Lemma('good.s.20.good')\n",
      "l: Lemma('good.s.20.undecomposed')\n",
      "l: Lemma('good.s.20.unspoiled')\n",
      "l: Lemma('good.s.20.unspoilt')\n",
      "l: Lemma('good.s.21.good')\n",
      "l: Lemma('well.r.01.well')\n",
      "l: Lemma('well.r.01.good')\n",
      "l: Lemma('thoroughly.r.02.thoroughly')\n",
      "l: Lemma('thoroughly.r.02.soundly')\n",
      "l: Lemma('thoroughly.r.02.good')\n"
     ]
    }
   ],
   "source": [
    "for syn in wordnet.synsets(\"good\"):\n",
    "    for l in syn.lemmas():\n",
    "        #print(\"l:\",l) check what are the synonyms\n",
    "        synonyms.append(l.name())\n",
    "        if l.antonyms():\n",
    "            antonyms.append(l.antonyms()[0].name())"
   ]
  },
  {
   "cell_type": "code",
   "execution_count": 27,
   "metadata": {
    "collapsed": false,
    "scrolled": true
   },
   "outputs": [
    {
     "name": "stdout",
     "output_type": "stream",
     "text": [
      "{'good', 'unspoiled', 'serious', 'unspoilt', 'dependable', 'secure', 'upright', 'in_effect', 'trade_good', 'commodity', 'right', 'soundly', 'respectable', 'near', 'honorable', 'undecomposed', 'beneficial', 'full', 'safe', 'skillful', 'salutary', 'estimable', 'skilful', 'expert', 'ripe', 'dear', 'in_force', 'well', 'goodness', 'practiced', 'just', 'proficient', 'effective', 'honest', 'adept', 'sound', 'thoroughly'}\n",
      "{'badness', <bound method Lemma.name of Lemma('bad.n.01.bad')>, 'evil', <bound method Lemma.name of Lemma('bad.n.01.badness')>, 'bad', <bound method Lemma.name of Lemma('evil.n.03.evil')>, <bound method Lemma.name of Lemma('ill.r.01.ill')>, 'evilness', 'ill', <bound method Lemma.name of Lemma('evil.n.03.evilness')>}\n"
     ]
    }
   ],
   "source": [
    "print(set(synonyms))\n",
    "print(set(antonyms))"
   ]
  },
  {
   "cell_type": "code",
   "execution_count": 36,
   "metadata": {
    "collapsed": true
   },
   "outputs": [],
   "source": [
    "w1 = wordnet.synset(\"ship.n.01\")\n",
    "w2 = wordnet.synset(\"boat.n.01\")"
   ]
  },
  {
   "cell_type": "code",
   "execution_count": 37,
   "metadata": {
    "collapsed": false
   },
   "outputs": [
    {
     "name": "stdout",
     "output_type": "stream",
     "text": [
      "0.9090909090909091\n"
     ]
    }
   ],
   "source": [
    "print(w1.wup_similarity(w2))"
   ]
  },
  {
   "cell_type": "code",
   "execution_count": 38,
   "metadata": {
    "collapsed": true
   },
   "outputs": [],
   "source": [
    "w3 = wordnet.synset(\"cat.n.01\")\n",
    "w4 = wordnet.synset(\"dog.n.01\")"
   ]
  },
  {
   "cell_type": "code",
   "execution_count": 39,
   "metadata": {
    "collapsed": false
   },
   "outputs": [
    {
     "name": "stdout",
     "output_type": "stream",
     "text": [
      "0.8571428571428571\n"
     ]
    }
   ],
   "source": [
    "print(w3.wup_similarity(w4))"
   ]
  },
  {
   "cell_type": "code",
   "execution_count": 41,
   "metadata": {
    "collapsed": false
   },
   "outputs": [
    {
     "name": "stdout",
     "output_type": "stream",
     "text": [
      "0.7586206896551724\n"
     ]
    }
   ],
   "source": [
    "w3 = wordnet.synset(\"pig.n.01\")\n",
    "w4 = wordnet.synset(\"dog.n.01\")\n",
    "print(w3.wup_similarity(w4))"
   ]
  },
  {
   "cell_type": "code",
   "execution_count": null,
   "metadata": {
    "collapsed": true
   },
   "outputs": [],
   "source": []
  }
 ],
 "metadata": {
  "kernelspec": {
   "display_name": "Python [default]",
   "language": "python",
   "name": "python3"
  },
  "language_info": {
   "codemirror_mode": {
    "name": "ipython",
    "version": 3
   },
   "file_extension": ".py",
   "mimetype": "text/x-python",
   "name": "python",
   "nbconvert_exporter": "python",
   "pygments_lexer": "ipython3",
   "version": "3.5.2"
  }
 },
 "nbformat": 4,
 "nbformat_minor": 1
}
